{
 "metadata": {
  "name": "",
  "signature": "sha256:c6950d0857aa54b8d3fae7cc703e58be2e34caa22e2753d6aed4a2abce2ca06f"
 },
 "nbformat": 3,
 "nbformat_minor": 0,
 "worksheets": [
  {
   "cells": [
    {
     "cell_type": "markdown",
     "metadata": {},
     "source": [
      "#Learning SQLAlchemy\n",
      "\n",
      "* [Basic SQLAlchemy](Learning SQLAlchemy.ipynb)\n",
      "* [One to Many Relationships](One to Many.ipynb)\n",
      "* [Many to Many Relationships](Many to Many.ipynb)\n",
      "* [Practical Examples](Examples.ipynb)"
     ]
    },
    {
     "cell_type": "markdown",
     "metadata": {},
     "source": [
      "##Practical Examples\n",
      "\n",
      "At this point, you're probably tired of my expounding on how to use databases and would probably like some examples on what they can do. I've put together what is hopefully a nice set of examples for you using the tools I've already presented in addition to a few more I'll throw into the mix."
     ]
    },
    {
     "cell_type": "markdown",
     "metadata": {},
     "source": [
      "###A Full Database\n",
      "\n",
      "I'm defining a full database here for your convenience. It will include all the tools that we've used so far and some hopefully useful examples of their use together as a functioning whole. For your first time through this, don't worry too much about the minutiae of each class. Just execute all the way through to the next section, so you can play around a bit with a full database. Later, you should definitely come back and check out all the new pieces of code and look them up in SQLAlchemy's documentation."
     ]
    },
    {
     "cell_type": "code",
     "collapsed": false,
     "input": [
      "from sqlalchemy import create_engine, Column, Integer, String, Float\n",
      "from sqlalchemy.ext.declarative import declarative_base\n",
      "import math\n",
      "\n",
      "engine = create_engine ('sqlite:///:memory:')\n",
      "Base = declarative_base ()\n",
      "\n",
      "# We're going to be using some trig functions in the database to do some great circle math, so we need to create these functions\n",
      "raw_con = engine.raw_connection()\n",
      "raw_con.create_function(\"cos\", 1, math.cos)\n",
      "raw_con.create_function(\"acos\", 1, math.acos)"
     ],
     "language": "python",
     "metadata": {},
     "outputs": [],
     "prompt_number": 1
    },
    {
     "cell_type": "markdown",
     "metadata": {},
     "source": [
      "We'll now define a full Star object. We'll give it a convenient init method, so you can use RA and Dec tuples instead of floats. We'll also implement some great circle math, so that you can query based on proximity of stars to sky coordinates and other stars."
     ]
    },
    {
     "cell_type": "code",
     "collapsed": false,
     "input": [
      "from sqlalchemy import func\n",
      "from sqlalchemy.ext.hybrid import hybrid_property, hybrid_method\n",
      "\n",
      "from astropy import units as u\n",
      "\n",
      "def toRad (degree):\n",
      "    return (degree * u.degree).to (u.rad).value\n",
      "\n",
      "class Star (Base):    \n",
      "    __tablename__ = 'stars'\n",
      "    \n",
      "    id = Column (Integer, primary_key = True)\n",
      "\n",
      "    name = Column (String, unique = True)\n",
      "    ra = Column (Float)\n",
      "    dec = Column (Float)\n",
      "    cos_dec = Column (Float)\n",
      "    sin_dec = Column (Float)\n",
      "    \n",
      "    def __init__ (self, *args, **kwargs):\n",
      "        try:\n",
      "            kwargs [\"ra\"] = float (kwargs [\"ra\"])\n",
      "        except TypeError:\n",
      "            kwargs [\"ra\"] = self.raToFloat (*(kwargs [\"ra\"]))\n",
      "            \n",
      "        try:\n",
      "            kwargs [\"dec\"] = float (kwargs [\"dec\"])\n",
      "        except TypeError:\n",
      "            kwargs [\"dec\"] = self.decToFloat (*(kwargs [\"dec\"]))\n",
      "            \n",
      "        kwargs [\"cos_dec\"] = math.cos (kwargs [\"dec\"])\n",
      "        kwargs [\"sin_dec\"] = math.sin (kwargs [\"dec\"])\n",
      "        \n",
      "        super (Star, self).__init__ (*args, **kwargs)\n",
      "\n",
      "    def __repr__ (self):\n",
      "        return \"<Star Object %s at (RA=%f, DEC=%f)>\" % (self.name, self.ra, self.dec)\n",
      "    \n",
      "    @classmethod\n",
      "    def load (cls, session, data, tags = None, convert = False, **kwargs):\n",
      "        filters = ('u', 'g', 'r', 'i', 'z')\n",
      "        if tags is None:\n",
      "            tags= []\n",
      "\n",
      "        for datum in data:\n",
      "            if convert:\n",
      "                star = Star (name = str (datum ['objid']), ra = toRad (datum ['ra']), dec = toRad (datum ['dec']))\n",
      "            else:\n",
      "                star = Star (name = str (datum ['objid']), ra = datum ['ra'], dec = datum ['dec'])\n",
      "            session.add (star)\n",
      "            for tag in tags:\n",
      "                star.tags.append (Tag.get (session, tag))\n",
      "            for filter in filters:\n",
      "                phot = Photometry (filter = filter, mag = datum [filter])\n",
      "                phot.star = star\n",
      "\n",
      "        session.commit ()\n",
      "        \n",
      "    @staticmethod\n",
      "    def raToFloat (hours, minutes = 0.0, seconds = 0.0):\n",
      "        return toRad ((hours + minutes / 60.0 + seconds / 3600.0) * 360 / 24)\n",
      "    \n",
      "    @staticmethod\n",
      "    def decToFloat (degrees, arcmins = 0.0, arcsecs = 0.0):\n",
      "        return (toRad (degrees + arcmins / 60.0 + arcsecs / 3600.0))\n",
      "    \n",
      "    @hybrid_method\n",
      "    def greatCircleDistance (self, other):\n",
      "        return math.acos ((self.cos_dec * other.cos_dec * math.cos (self.ra - other.ra) + self.sin_dec * other.sin_dec) * (1.0 - 2.e-16))\n",
      "\n",
      "    @greatCircleDistance.expression\n",
      "    def greatCircleDistance (cls, other):\n",
      "        return func.acos ((cls.cos_dec * other.cos_dec * func.cos (cls.ra - other.ra) + cls.sin_dec * other.sin_dec) * (1.0 - 2.e-16))"
     ],
     "language": "python",
     "metadata": {},
     "outputs": [],
     "prompt_number": 2
    },
    {
     "cell_type": "markdown",
     "metadata": {},
     "source": [
      "We also implement a SkyLocation object. This is designed to hold an ra and dec and we can use it to calculate distances between fixed sky locations and individual stars. This can be used, for example, to calculate the angular separation between a star and the zenith to filter by airmass."
     ]
    },
    {
     "cell_type": "code",
     "collapsed": false,
     "input": [
      "from sidereal import LatLon, SiderealTime, AltAz\n",
      "from datetime import datetime\n",
      "\n",
      "class SkyLocation (object):\n",
      "    \n",
      "    def __init__ (self, ra, dec):\n",
      "        try:\n",
      "            self.ra = float (ra)\n",
      "        except TypeError:\n",
      "            self.ra = Star.raToFloat (*ra)\n",
      "            \n",
      "        try:\n",
      "            self.dec = float (dec)\n",
      "        except TypeError:\n",
      "            self.dec = Star.decToFloat (*dec)\n",
      "            \n",
      "        self.cos_dec = math.cos (self.dec)\n",
      "        self.sin_dec = math.sin (self.dec)\n",
      "        \n",
      "        super (SkyLocation, self).__init__ ()\n",
      "\n",
      "    def greatCircleDistance (self, other):\n",
      "        return math.acos (self.cos_dec * other.cos_dec * math.cos(self.ra - other.ra) + self.sin_dec * other.sin_dec)\n",
      "    \n",
      "    @classmethod\n",
      "    def zenith (cls, latitude, longitude, time = None):\n",
      "        \"\"\"\n",
      "        time should be a datetime object or None to use the current time\n",
      "        \"\"\"\n",
      "        if time is None:\n",
      "            time = datetime.now ()\n",
      "        altaz = AltAz (math.pi / 2.0, 0.0)\n",
      "        radec = altaz.raDec (SiderealTime.fromDatetime (time), LatLon (toRad (latitude), toRad (longitude)))\n",
      "        return cls (radec.ra, radec.dec)"
     ],
     "language": "python",
     "metadata": {},
     "outputs": [],
     "prompt_number": 3
    },
    {
     "cell_type": "markdown",
     "metadata": {},
     "source": [
      "We also implement the Photometry class from the One to Many lesson to show some applications of the photometry class."
     ]
    },
    {
     "cell_type": "code",
     "collapsed": false,
     "input": [
      "from sqlalchemy import ForeignKey\n",
      "from sqlalchemy.orm import relationship, backref\n",
      "\n",
      "class Photometry (Base):    \n",
      "    __tablename__ = 'photometry'\n",
      "\n",
      "    id = Column (Integer, primary_key = True)\n",
      "\n",
      "    filter = Column (String)\n",
      "    mag = Column (Float)\n",
      "    date = Column (Float)\n",
      "    comments = Column (String)\n",
      "    \n",
      "    star_id = Column (Integer, ForeignKey(\"stars.id\"))\n",
      "    star = relationship (\"Star\", backref = backref (\"photometry_set\", \n",
      "                                   cascade=\"all, delete-orphan\", lazy = \"dynamic\"))"
     ],
     "language": "python",
     "metadata": {},
     "outputs": [],
     "prompt_number": 8
    },
    {
     "cell_type": "markdown",
     "metadata": {},
     "source": [
      "We can also implement the Tag class from the Many to Many lesson to show some of its applications."
     ]
    },
    {
     "cell_type": "code",
     "collapsed": false,
     "input": [
      "from sqlalchemy import Table\n",
      "from sqlalchemy import ForeignKey\n",
      "from sqlalchemy.orm import relationship\n",
      "from sqlalchemy.orm.exc import NoResultFound\n",
      "\n",
      "star_tag = Table('star_tag', Base.metadata,\n",
      "    Column('star_id', Integer, ForeignKey('stars.id')),\n",
      "    Column('tag_id', Integer, ForeignKey('tags.id'))\n",
      ")\n",
      "\n",
      "class Tag (Base):\n",
      "    __tablename__ = 'tags'\n",
      "    \n",
      "    id = Column(Integer, primary_key = True)\n",
      "    tag = Column(String(50), nullable=False, unique=True)\n",
      "    \n",
      "    stars = relationship ('Star', secondary = star_tag, backref = 'tags')\n",
      "\n",
      "    @classmethod\n",
      "    def get (cls, session, tag):\n",
      "        try:\n",
      "            return session.query (cls).filter_by (tag = tag).one ()\n",
      "        except NoResultFound:\n",
      "            return cls (tag = tag)\n",
      "        \n",
      "    def __repr__ (self):\n",
      "        return \"<Tag %s>\" % self.tag"
     ],
     "language": "python",
     "metadata": {},
     "outputs": [],
     "prompt_number": 9
    },
    {
     "cell_type": "code",
     "collapsed": false,
     "input": [
      "from sqlalchemy.orm import sessionmaker\n",
      "\n",
      "Base.metadata.create_all (engine)\n",
      "Session = sessionmaker (bind = engine)"
     ],
     "language": "python",
     "metadata": {},
     "outputs": [],
     "prompt_number": 10
    },
    {
     "cell_type": "markdown",
     "metadata": {},
     "source": [
      "###Populating the Database\n",
      "\n",
      "We've now set up a database, and I'd like to show you a few neat things you can do with it, but first, we need to populate it. I have three datasets for you: some M3 photometry, some M13 photometry, and a list of the 10 brightest stars in the night sky. We're going to put all three into the database and look at some applications."
     ]
    },
    {
     "cell_type": "code",
     "collapsed": false,
     "input": [
      "import numpy as np\n",
      "\n",
      "session = Session ()\n",
      "\n",
      "# Load the M3 dataset from a csv file using numpy, tag all the data as \"M3\"\n",
      "Star.load (session, np.genfromtxt (\"sdss-dr7-m3.csv\", names = True, delimiter = ',', dtype = None), tags = [\"M3\"], convert = True)"
     ],
     "language": "python",
     "metadata": {},
     "outputs": [],
     "prompt_number": 11
    },
    {
     "cell_type": "code",
     "collapsed": false,
     "input": [
      "# Load the M13 dataset from a csv file using numpy, tag all the data as \"M13\"\n",
      "Star.load (session, np.genfromtxt (\"sdss-dr7-m13.csv\", names = True, delimiter = ',', dtype = None), tags = [\"M13\"], convert = True)"
     ],
     "language": "python",
     "metadata": {},
     "outputs": [],
     "prompt_number": 12
    },
    {
     "cell_type": "code",
     "collapsed": false,
     "input": [
      "# The 10 brightest stars in the night sky, tagged as \"Bright\"\n",
      "sirius = Star (name = \"Sirius\", ra = (6, 45, 08.9), dec = (-16, 42, 58))\n",
      "sirius.tags.append (Tag.get (session, \"Bright\"))\n",
      "session.add (sirius)\n",
      "\n",
      "canopus = Star (name = \"Canopus\", ra = (6, 23, 57.1), dec = (-52, 41, 45))\n",
      "canopus.tags.append (Tag.get (session, \"Bright\"))\n",
      "session.add (canopus)\n",
      "\n",
      "rigil = Star (name = \"Rigil Kentaurus\", ra = (14, 39, 35.9), dec = (-60, 50, 7))\n",
      "rigil.tags.append (Tag.get (session, \"Bright\"))\n",
      "session.add (rigil)\n",
      "\n",
      "arcturus = Star (name = \"Arcturus\", ra = (14, 15, 39.7), dec = (19, 10, 57))\n",
      "arcturus.tags.append (Tag.get (session, \"Bright\"))\n",
      "session.add (arcturus)\n",
      "\n",
      "vega = Star (name = \"Vega\", ra = (18, 36, 56.3), dec = (38, 47, 1))\n",
      "vega.tags.append (Tag.get (session, \"Bright\"))\n",
      "session.add (vega)\n",
      "\n",
      "capella = Star (name = \"Capella\", ra = (5, 16, 41.4), dec = (45, 59, 53))\n",
      "capella.tags.append (Tag.get (session, \"Bright\"))\n",
      "session.add (capella)\n",
      "\n",
      "rigel = Star (name = \"Rigel\", ra = (5, 14, 32.3), dec = (-8, 12, 6))\n",
      "rigel.tags.append (Tag.get (session, \"Bright\"))\n",
      "session.add (rigel)\n",
      "\n",
      "procyon = Star (name = \"Procyon\", ra = (7, 39, 18.1), dec = (5, 13, 30))\n",
      "procyon.tags.append (Tag.get (session, \"Bright\"))\n",
      "session.add (procyon)\n",
      "\n",
      "achernar = Star (name = \"Achernar\", ra = (1, 37, 42.9), dec = (-57, 14, 12))\n",
      "achernar.tags.append (Tag.get (session, \"Bright\"))\n",
      "session.add (achernar)\n",
      "\n",
      "betelgeuse = Star (name = \"Betelgeuse\", ra = (5, 55, 10.3), dec = (7, 24, 25))\n",
      "betelgeuse.tags.append (Tag.get (session, \"Bright\"))\n",
      "session.add (betelgeuse)\n",
      "\n",
      "session.commit ()"
     ],
     "language": "python",
     "metadata": {},
     "outputs": [],
     "prompt_number": 13
    },
    {
     "cell_type": "markdown",
     "metadata": {},
     "source": [
      "###Using the Database\n",
      "\n",
      "Now that we've loaded the data, let's try to actually use it. For most of this, we'll actually be plotting the data, so let's import matplotlib and use the matplotlib magic to make figures appear inline"
     ]
    },
    {
     "cell_type": "code",
     "collapsed": false,
     "input": [
      "import matplotlib.pyplot as plt\n",
      "%matplotlib inline"
     ],
     "language": "python",
     "metadata": {},
     "outputs": [],
     "prompt_number": 14
    },
    {
     "cell_type": "markdown",
     "metadata": {},
     "source": [
      "####1. Plot All Targets on Sky\n",
      "\n",
      "We can do a very simple query on the database to plot the location of every star on the sky. We'll color them by tag to make the tags more apparent. Here, we use a Mollweide projection, but you could get the same effect by just plotting RA and Dec."
     ]
    },
    {
     "cell_type": "code",
     "collapsed": false,
     "input": [
      "import numpy as np\n",
      "\n",
      "query = session.query (Star, Tag).join (Tag, Star.tags)\n",
      "results = query.all ()\n",
      "\n",
      "tagToColor = {\"M13\": \"blue\", \"M3\": \"green\", \"Bright\": \"white\"}\n",
      "\n",
      "ras = np.array ([star.ra for star, tag in results])\n",
      "decs = np.array ([star.dec for star, tag in results])\n",
      "colors = np.array ([tagToColor [tag.tag] for star, tag in results])\n",
      "\n",
      "fig = plt.figure ()\n",
      "ax = plt.subplot (111, projection = \"mollweide\")\n",
      "\n",
      "ax.scatter (ras - math.pi, decs, c = colors, s = 50)\n",
      "\n",
      "ax.grid (True)"
     ],
     "language": "python",
     "metadata": {},
     "outputs": [
      {
       "metadata": {},
       "output_type": "display_data",
       "png": "[encoded data removed]",
       "text": [
        "<matplotlib.figure.Figure at 0x1046db198>"
       ]
      }
     ],
     "prompt_number": 16
    },
    {
     "cell_type": "markdown",
     "metadata": {},
     "source": [
      "####2. Filter by Dataset and by Functions of Color and Magnitude\n",
      "\n",
      "We can use the tags to filter and color by dataset, and we can even add filters that are functions of both color and magnitude.\n",
      "\n",
      "There are a few interesting features we're using here. The big one is <b>aliasing</b>. An alias is a reference to a table in the database, but occasionally, we may want to filter by more than one entry in a database, e.g. when filtering by color. To filter by color, we need two Photometry type objects, and the way we specify this is with aliases."
     ]
    },
    {
     "cell_type": "code",
     "collapsed": false,
     "input": [
      "import numpy as np\n",
      "from sqlalchemy.orm import aliased\n",
      "\n",
      "# Set up the aliases to the Photometry object\n",
      "photog = aliased (Photometry)\n",
      "photor = aliased (Photometry)\n",
      "\n",
      "# We'll need to set up a query that returns two photometry objects and a Tag; we join the Tag table to the Star table\n",
      "query = session.query (photog, photor, Tag).join (Tag, Star.tags)\n",
      "# We join the photog Photometry table to the Star table and then filter by forcing photog to be a \"g\" filter\n",
      "query = query.join (photog, Star.photometry_set).filter (photog.filter == \"g\")\n",
      "# We repeart for photor\n",
      "query = query.join (photor, Star.photometry_set).filter (photor.filter == \"r\")\n",
      "# We then construct a filter to filter based on color and magnitude\n",
      "# Try commenting out this next line\n",
      "query = query.filter (5 * (photog.mag - photor.mag) + 20 > photog.mag)\n",
      "\n",
      "# We separate the query into one for each cluster\n",
      "m3 = query.filter (Star.tags.contains (Tag.get (session, \"M3\"))).all ()\n",
      "m13 = query.filter (Star.tags.contains (Tag.get (session, \"M13\"))).all ()\n",
      "\n",
      "m3gmags = np.array ([photog.mag for photog, photor, tag in m3])\n",
      "m3rmags = np.array ([photor.mag for photog, photor, tag in m3])\n",
      "\n",
      "m13gmags = np.array ([photog.mag for photog, photor, tag in m13])\n",
      "m13rmags = np.array ([photor.mag for photog, photor, tag in m13])\n",
      "\n",
      "fig = plt.figure ()\n",
      "ax = plt.subplot (111)\n",
      "\n",
      "ax.scatter (m3gmags - m3rmags, m3gmags, s = 5, lw = 0, c = \"green\", label = \"M3\")\n",
      "ax.scatter (m13gmags - m13rmags, m13gmags, s = 5, lw = 0, c = \"blue\", label = \"M13\")\n",
      "\n",
      "ax.set_xlabel (\"g - r\")\n",
      "ax.set_ylabel (\"g\")\n",
      "\n",
      "ax.set_ylim ((25, 15))\n",
      "ax.set_xlim ((0, 2))\n",
      "\n",
      "ax.legend ()"
     ],
     "language": "python",
     "metadata": {},
     "outputs": [
      {
       "metadata": {},
       "output_type": "pyout",
       "prompt_number": 17,
       "text": [
        "<matplotlib.legend.Legend at 0x104c46080>"
       ]
      },
      {
       "metadata": {},
       "output_type": "display_data",
       "png": "[encoded data removed]",
       "text": [
        "<matplotlib.figure.Figure at 0x104f0a8d0>"
       ]
      }
     ],
     "prompt_number": 17
    },
    {
     "cell_type": "markdown",
     "metadata": {},
     "source": [
      "####3. Querying for Visible Stars and Prioritizing by Airmass\n",
      "\n",
      "We can use our database to query for any stars in our database that are currently observable, and we can prioritize them by airmass (or by whatever metric you desire). This could be useful in the construction of automated queues that choose the best targets on any given night."
     ]
    },
    {
     "cell_type": "code",
     "collapsed": false,
     "input": [
      "import math\n",
      "\n",
      "# We generate a SkyLocation object at the current zenith and specify our desired maximum airmass\n",
      "zenith = SkyLocation.zenith (36.974117, -122.030796)\n",
      "maxAirmass = 2.0\n",
      "\n",
      "# We want the query to return a Star object and its distance from the zenith\n",
      "query = session.query (Star, Star.greatCircleDistance (zenith)).filter (Star.tags.contains (Tag.get (session, \"Bright\")))\n",
      "# We filter by our maximum airmass, making sure the angle from zenith doesn't exceed the desired airmass\n",
      "query = query.filter (Star.greatCircleDistance (zenith) < math.acos (1.0 / maxAirmass))\n",
      "# We order by the distance from the zenith so that the stars appear in order of the best potential observations\n",
      "for star, dist in query.order_by (Star.greatCircleDistance (zenith)):\n",
      "    print (\"Found visible star, %s, with airmass %f\" % (star.name, 1.0 / math.cos (dist)))"
     ],
     "language": "python",
     "metadata": {},
     "outputs": [
      {
       "output_type": "stream",
       "stream": "stdout",
       "text": [
        "Found visible star, Capella, with airmass 1.173337\n",
        "Found visible star, Betelgeuse, with airmass 1.719719\n",
        "Found visible star, Rigel, with airmass 1.916786\n"
       ]
      }
     ],
     "prompt_number": 21
    },
    {
     "cell_type": "markdown",
     "metadata": {},
     "source": [
      "####4. Building Statistics on Clustering\n",
      "\n",
      "We can use the angular distance math to calculate statistics of clustering in the globular clusters in our database as well."
     ]
    },
    {
     "cell_type": "code",
     "collapsed": false,
     "input": [
      "from sqlalchemy.orm import aliased\n",
      "from sqlalchemy import func\n",
      "\n",
      "# We need two star aliases because we're comparing distances\n",
      "first = aliased (Star)\n",
      "second = aliased (Star)\n",
      "\n",
      "# We want the query to return the star and the distance to the nearest neighbor (not including itself)\n",
      "query = session.query (first, func.min (first.greatCircleDistance (second))).filter (first.id != second.id)\n",
      "# Both stars should be members of M3\n",
      "query = query.filter (first.tags.contains (Tag.get (session, \"M3\"))).filter (second.tags.contains (Tag.get (session, \"M3\")))\n",
      "# Since we're returning the min of the collection, we need to group by the first star.\n",
      "# This would return a group of results, except that the min function now takes the minimum of each group\n",
      "query = query.order_by (first.greatCircleDistance (second)).group_by (first)\n",
      "\n",
      "results = query.all ()\n",
      "\n",
      "distances = np.array ([distance for star, distance in results])"
     ],
     "language": "python",
     "metadata": {},
     "outputs": [],
     "prompt_number": 19
    },
    {
     "cell_type": "markdown",
     "metadata": {},
     "source": [
      "Now we have a numpy array that contains, for every star, the distance to the nearest star in order of increasing separation. We can do any number of things with this information. For example, we can look at the probability density function of this information."
     ]
    },
    {
     "cell_type": "code",
     "collapsed": false,
     "input": [
      "import numpy as np\n",
      "\n",
      "values, base = np.histogram (distances, bins = np.logspace(np.log10 (min (distances)), np.log10 (max (distances)), 50))\n",
      "\n",
      "fig = plt.figure ()\n",
      "ax = plt.subplot (111)\n",
      "\n",
      "ax.plot (base [:-1], values)\n",
      "\n",
      "ax.set_xscale (\"log\")\n",
      "# ax.set_yscale (\"log\")\n",
      "\n",
      "ax.set_xlabel (\"Angular Separation to Nearest Neighbor (Radians)\")"
     ],
     "language": "python",
     "metadata": {},
     "outputs": [
      {
       "metadata": {},
       "output_type": "pyout",
       "prompt_number": 20,
       "text": [
        "<matplotlib.text.Text at 0x104ae4978>"
       ]
      },
      {
       "metadata": {},
       "output_type": "display_data",
       "png": "[encoded data removed]",
       "text": [
        "<matplotlib.figure.Figure at 0x104adc8d0>"
       ]
      }
     ],
     "prompt_number": 20
    },
    {
     "cell_type": "markdown",
     "metadata": {},
     "source": [
      "####Try It Yourself!\n",
      "\n",
      "Now, it's your turn. __Try querying the database and making some interesting plots of your own. Or add your own dataset and try out some of the tools you've seen here.__"
     ]
    },
    {
     "cell_type": "code",
     "collapsed": false,
     "input": [],
     "language": "python",
     "metadata": {},
     "outputs": [],
     "prompt_number": 47
    },
    {
     "cell_type": "markdown",
     "metadata": {},
     "source": [
      "##Conclusion\n",
      "\n",
      "Hopefully, I've provided you with a series of useful tools that can be applied to your own unique data set, whatever that may be. Databases are extremely powerful ways to query and organize data, but like any tool, their features can be abused. You may find that adding too many relationships can slow down your database, particularly if your database contains huge numbers of entries. Also, all the work here has been done with sqlite databases, which are nice for learning purposes but do not scale well to production-level code. Now that you're familiar with the basics, I definitely recommend looking through some of the SQLAlchemy documentation [here](http://docs.sqlalchemy.org/en/rel_0_9/index.html).\n",
      "\n",
      "Good luck!"
     ]
    },
    {
     "cell_type": "code",
     "collapsed": false,
     "input": [],
     "language": "python",
     "metadata": {},
     "outputs": []
    }
   ],
   "metadata": {}
  }
 ]
}